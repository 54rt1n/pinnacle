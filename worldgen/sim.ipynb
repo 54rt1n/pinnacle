{
 "cells": [
  {
   "cell_type": "code",
   "execution_count": 5,
   "metadata": {},
   "outputs": [
    {
     "data": {
      "text/plain": [
       "(9817, 4)"
      ]
     },
     "execution_count": 5,
     "metadata": {},
     "output_type": "execute_result"
    }
   ],
   "source": [
    "from PIL import Image\n",
    "import pygame\n",
    "import numpy as np\n",
    "\n",
    "image_path = \"./assets/pinnacle.png\"\n",
    "\n",
    "image = Image.open(image_path)\n",
    "\n",
    "# Get the size of the image\n",
    "width, height = image.size\n",
    "\n",
    "unique_colors = np.unique(np.array(image).reshape(-1, 4), axis=0)\n",
    "unique_colors.shape"
   ]
  }
 ],
 "metadata": {
  "kernelspec": {
   "display_name": "wenv",
   "language": "python",
   "name": "python3"
  },
  "language_info": {
   "codemirror_mode": {
    "name": "ipython",
    "version": 3
   },
   "file_extension": ".py",
   "mimetype": "text/x-python",
   "name": "python",
   "nbconvert_exporter": "python",
   "pygments_lexer": "ipython3",
   "version": "3.9.0"
  },
  "orig_nbformat": 4
 },
 "nbformat": 4,
 "nbformat_minor": 2
}
